{
 "cells": [
  {
   "cell_type": "markdown",
   "metadata": {},
   "source": [
    "<h4>Phillies Baseball R&D Questionnaire - Question B</h4>\n",
    "<ul>\n",
    "<li>In baseball, a team can provide a departing free agent player with a qualifying offer1: a one-year contract whose monetary value is the average of the 125 highest salaries from the past season. The player is free to reject it and sign with any other team, but his new team will have to forfeit a draft pick. </li>\n",
    "<li>Use the provided dataset to write a program or application that determines the monetary value of the upcoming qualifying offer and displays the amount along with any other relevant information or visualizations to the user. Note that while the URL and general format of the data will be consistent, the data itself can change slightly with each page load, so make sure your code pulls the data each time it is run and expect the final result to change each time.</li>\n",
    "</ul>\n",
    "<h4>Notes regarding source code below:</h4>\n",
    "<ol>\n",
    "<li>Code reads 'data.html' with urllib request and parses html to extract table data with BeautifulSoup4</li>\n",
    "<li>Salary data is tested for integrity; non-numeric values are not included (through use of try/except block)</li>\n",
    "<li>Salary data list is reverse sorted and the top 125 salaries are shown in a histogram; the salary range is of the top 125 salaries is shown</li>\n",
    "<li>The proposed qualifying offer is output with the min/max of the 125 player salary range</li>\n",
    "<li>To run code, execute the JupyterLab notebook</li>\n",
    "</ol>"
   ]
  },
  {
   "cell_type": "code",
   "execution_count": 1,
   "metadata": {},
   "outputs": [],
   "source": [
    "import urllib.request\n",
    "import pandas as pd\n",
    "import matplotlib.pyplot as plt\n",
    "from matplotlib import colors\n",
    "from bs4 import BeautifulSoup"
   ]
  },
  {
   "cell_type": "code",
   "execution_count": 2,
   "metadata": {},
   "outputs": [],
   "source": [
    "NUM_PLAYERS = 125\n",
    "SALARY_URL = 'https://questionnaire-148920.appspot.com/swe/data.html'"
   ]
  },
  {
   "cell_type": "code",
   "execution_count": 3,
   "metadata": {},
   "outputs": [],
   "source": [
    "# get (first and only) table from url \n",
    "content = urllib.request.urlopen(SALARY_URL)\n",
    "read_content = content.read()\n",
    "soup = BeautifulSoup(read_content, 'lxml') \n",
    "table = soup.find_all('table')[0] \n",
    "    \n",
    "# get list of player salaries from html table (provided)\n",
    "salaries = []\n",
    "for row in table.find_all(\"tr\")[1:]:\n",
    "    cols = row.find_all('td')\n",
    "    for col in cols:\n",
    "        colname = col['class'][0].replace('player-', '')\n",
    "        if colname == 'salary':\n",
    "            salary = col.get_text()\n",
    "            try:\n",
    "                salaries.append(int(col.get_text().replace(',','').replace('$', '')))\n",
    "            except ValueError:\n",
    "                continue\n",
    "                \n",
    "# sort salaries in descending order\n",
    "sorted_salaries = sorted(salaries, reverse=True)\n",
    "# determine qualifying offer from top 125 player salaries\n",
    "proposed_salary = sum(sorted_salaries[: NUM_PLAYERS]) / NUM_PLAYERS   "
   ]
  },
  {
   "cell_type": "code",
   "execution_count": 4,
   "metadata": {},
   "outputs": [
    {
     "data": {
      "image/png": "[encoded data removed]",
      "text/plain": [
       "<Figure size 432x288 with 1 Axes>"
      ]
     },
     "metadata": {
      "needs_background": "light"
     },
     "output_type": "display_data"
    }
   ],
   "source": [
    "# show histogram of top 125 salaries\n",
    "fig, ax = plt.subplots() \n",
    "ax.hist([x / 1e6 for x in sorted_salaries[: NUM_PLAYERS]], bins=15, color='royalblue') \n",
    "ax.set_title(\"Histogram - Top 125 Player Salaries\")\n",
    "ax.set_xlabel('Salary (Million USD)')\n",
    "plt.show() "
   ]
  },
  {
   "cell_type": "code",
   "execution_count": 5,
   "metadata": {},
   "outputs": [
    {
     "name": "stdout",
     "output_type": "stream",
     "text": [
      "Salary range for top 125 players: $10,000,000 to $34,571,429\n",
      "Proposed Qualifying Offer:        $16,718,327\n"
     ]
    }
   ],
   "source": [
    "print('Salary range for top 125 players: ${:,.0f} to ${:,.0f}'.format(sorted_salaries[NUM_PLAYERS - 1], sorted_salaries[0], ))\n",
    "print('Proposed Qualifying Offer:        ${:,.0f}'.format(proposed_salary))"
   ]
  },
  {
   "cell_type": "code",
   "execution_count": null,
   "metadata": {},
   "outputs": [],
   "source": []
  }
 ],
 "metadata": {
  "kernelspec": {
   "display_name": "Python 3",
   "language": "python",
   "name": "python3"
  },
  "language_info": {
   "codemirror_mode": {
    "name": "ipython",
    "version": 3
   },
   "file_extension": ".py",
   "mimetype": "text/x-python",
   "name": "python",
   "nbconvert_exporter": "python",
   "pygments_lexer": "ipython3",
   "version": "3.7.7"
  }
 },
 "nbformat": 4,
 "nbformat_minor": 4
}
