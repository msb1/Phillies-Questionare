{
 "cells": [
  {
   "cell_type": "markdown",
   "metadata": {},
   "source": [
    "<h4>Phillies Baseball R&D Questionnaire - Question A</h4>\n",
    "<ol>\n",
    "<li>The following Python functions check whether a string is a palindrome. Please explain, in 250 words or less, how you'd improve this code and why.</li>\n",
    "<li>Original check palindrome method and improved version are shown in the notebook boxes below; explanation for improvements is provided in 'is_palindrone_improved' function comments</li>\n",
    "</ol>"
   ]
  },
  {
   "cell_type": "code",
   "execution_count": 1,
   "metadata": {},
   "outputs": [],
   "source": [
    "# check palindrome function provided for Phillies Baseball R&D Questionnaire\n",
    "def is_palindrone(s):\n",
    "    r=\"\"\n",
    "    for c in s:\n",
    "        r = c +r\n",
    "    for x in range(0, len(s)):\n",
    "        if s[x] == r[x]:\n",
    "            x = True\n",
    "        else:\n",
    "            return False\n",
    "    return x"
   ]
  },
  {
   "cell_type": "code",
   "execution_count": 2,
   "metadata": {},
   "outputs": [],
   "source": [
    "# improved check palindrome function\n",
    "def is_palindrone_improved(s):\n",
    "    '''\n",
    "    Improvements:\n",
    "    (1) Eliminate first for loop - no need to reverse string to check palindrome. This saves memory usage. \n",
    "        In Python, strings are ordered sequences of character data. Memory usage is saved by not storing the reversed string.\n",
    "    (2) Check characters at beginning and end of string successively - i.e., check the first equals the last, then the second equals\n",
    "        next to last, and so on... If characters are not equal, break loop and return False from the method. No need to iterate \n",
    "        over entire string if character equality is not met at each step of the iteration. \n",
    "    (3) Original method is O(N); improved method is O(N/2) - where N is the string length. However, improved method is O(N/2) only if\n",
    "        string is palindrome and even more efficient if not palindrome\n",
    "    '''\n",
    "    # Length of string.\n",
    "    strlen = len(s)\n",
    "\n",
    "    # Loop over first half of string and match with opposite character.\n",
    "    for i in range(strlen // 2):\n",
    "        # if not character match, return false\n",
    "        if s[i] != s[-1 - i]:\n",
    "            return False\n",
    "    return True"
   ]
  },
  {
   "cell_type": "code",
   "execution_count": 3,
   "metadata": {},
   "outputs": [
    {
     "name": "stdout",
     "output_type": "stream",
     "text": [
      "Original:  [True, False, True, False, True]\n",
      "Improvied: [True, False, True, False, True]\n"
     ]
    }
   ],
   "source": [
    "# make sure both check palindrome methods work - always good to test\n",
    "words = ['stoppots', 'possibility', 'malayalam', 'otherwise', 'wetstew']\n",
    "original = []\n",
    "improved = []\n",
    "for word in words:\n",
    "    original.append(is_palindrone(word))\n",
    "    improved.append(is_palindrone_improved(word))\n",
    "print('Original: ', original)\n",
    "print('Improvied:', improved)"
   ]
  },
  {
   "cell_type": "code",
   "execution_count": null,
   "metadata": {},
   "outputs": [],
   "source": []
  }
 ],
 "metadata": {
  "kernelspec": {
   "display_name": "Python 3",
   "language": "python",
   "name": "python3"
  },
  "language_info": {
   "codemirror_mode": {
    "name": "ipython",
    "version": 3
   },
   "file_extension": ".py",
   "mimetype": "text/x-python",
   "name": "python",
   "nbconvert_exporter": "python",
   "pygments_lexer": "ipython3",
   "version": "3.7.7"
  }
 },
 "nbformat": 4,
 "nbformat_minor": 4
}
